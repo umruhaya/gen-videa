{
 "cells": [
  {
   "cell_type": "markdown",
   "id": "2ef7a7bd",
   "metadata": {},
   "source": [
    "# Text-to-Video Generation with AnimateDiff"
   ]
  },
  {
   "cell_type": "code",
   "execution_count": null,
   "id": "88c996c1",
   "metadata": {},
   "outputs": [],
   "source": [
    "# Download the necessary packages (globally)\n",
    "!pip install torch diffusers opencv-python transformers accelerate peft"
   ]
  },
  {
   "cell_type": "markdown",
   "id": "c5067877",
   "metadata": {},
   "source": [
    "## Load Model into Memory"
   ]
  },
  {
   "cell_type": "code",
   "execution_count": null,
   "id": "dc6db217-58af-4248-8bce-6093b3af0517",
   "metadata": {
    "tags": []
   },
   "outputs": [],
   "source": [
    "import torch\n",
    "from diffusers import AnimateDiffPipeline, DDIMScheduler, MotionAdapter\n",
    "from diffusers.utils import export_to_gif, export_to_video\n",
    "\n",
    "# Load the motion adapter\n",
    "adapter = MotionAdapter.from_pretrained(\"guoyww/animatediff-motion-adapter-v1-5-2\", torch_dtype=torch.float16)\n",
    "# load SD 1.5 based finetuned model\n",
    "original_model = \"emilianJR/CyberRealistic_V3\"\n",
    "# custom model path (for fine tuned models)\n",
    "model_id = \"rohan\"\n",
    "\n",
    "# Load the Model Weights into GPU Memory\n",
    "pipe = AnimateDiffPipeline.from_pretrained(original_model, motion_adapter=adapter, torch_dtype=torch.float16)"
   ]
  },
  {
   "cell_type": "markdown",
   "id": "38e75c46",
   "metadata": {},
   "source": [
    "## Motion Lora\n",
    "We use motion loras for adding specific types of motions to the results. view more details at [Animated Diff](https://huggingface.co/docs/diffusers/api/pipelines/animatediff)"
   ]
  },
  {
   "cell_type": "code",
   "execution_count": null,
   "id": "9c40684f-9ef1-41c1-b42c-7accd1ad4dfb",
   "metadata": {},
   "outputs": [],
   "source": [
    "# pipe.load_lora_weights(\n",
    "#     \"guoyww/animatediff-motion-lora-zoom-out\", adapter_name=\"zoom-out\",\n",
    "# )\n",
    "# pipe.load_lora_weights(\n",
    "#     \"guoyww/animatediff-motion-lora-pan-left\", adapter_name=\"pan-left\",\n",
    "# )\n",
    "# pipe.load_lora_weights(\n",
    "#     \"guoyww/animatediff-motion-lora-zoom-out\", adapter_name=\"zoom-out\",\n",
    "# )\n",
    "# pipe.load_lora_weights(\n",
    "#     \"guoyww/animatediff-motion-lora-tilt-up\", adapter_name=\"tilt-up\",\n",
    "# )\n",
    "pipe.load_lora_weights(\n",
    "    \"guoyww/animatediff-motion-lora-rolling-clockwise\", adapter_name=\"rolling-clockwise\",\n",
    ")\n",
    "\n",
    "# use if using multiple motion adapters\n",
    "# pipe.set_adapters([\"zoom-out\", \"pan-left\"], adapter_weights=[1.0, 1.0])\n",
    "\n",
    "scheduler = DDIMScheduler.from_pretrained(\n",
    "    model_id,\n",
    "    subfolder=\"scheduler\",\n",
    "    clip_sample=False,\n",
    "    timestep_spacing=\"linspace\",\n",
    "    beta_schedule=\"linear\",\n",
    "    steps_offset=1,\n",
    ")\n",
    "pipe.scheduler = scheduler\n",
    "\n",
    "# enable memory savings\n",
    "pipe.enable_vae_slicing()\n",
    "pipe.enable_model_cpu_offload()"
   ]
  },
  {
   "cell_type": "markdown",
   "id": "d972b1b3",
   "metadata": {},
   "source": [
    "## Inference"
   ]
  },
  {
   "cell_type": "code",
   "execution_count": 20,
   "id": "548cd2b7-2a28-4389-a637-fdc05fc83a22",
   "metadata": {
    "tags": []
   },
   "outputs": [
    {
     "data": {
      "application/vnd.jupyter.widget-view+json": {
       "model_id": "55fb8d298c5f43b09a2f3c5e3f9bdf61",
       "version_major": 2,
       "version_minor": 0
      },
      "text/plain": [
       "  0%|          | 0/50 [00:00<?, ?it/s]"
      ]
     },
     "metadata": {},
     "output_type": "display_data"
    },
    {
     "data": {
      "text/plain": [
       "'rohan-13.gif'"
      ]
     },
     "execution_count": 20,
     "metadata": {},
     "output_type": "execute_result"
    }
   ],
   "source": [
    "output = pipe(\n",
    "    prompt=\"High quality, full-face centered closeup of zwx person as a casual yet stylish male, relaxed demeanor, sunlit beach backdrop, summer vibes, art by artgerm and greg rutkowski, warm and inviting color palette\",\n",
    "    negative_prompt=\"NSFW, amputee, bad anatomy, bad illustration, bad proportions, beyond the borders, blurry, body out of frame, boring background, branding, cropped, cut off, deformed, disfigured, dismembered, disproportioned, distorted, draft, duplicate, duplicated features, extra arms, extra fingers, extra hands, extra legs, extra limbs, fault, flaw, fused fingers, grains, grainy, gross proportions, improper scale, incorrect physiology, incorrect ratio, indistinct, logo, long neck, low quality, low resolution, multiple people, extra bodies, extra face, multiple faces, multiple frames, broken teeth\",\n",
    "    num_frames=16,\n",
    "    guidance_scale=8,\n",
    "    num_inference_steps=50,\n",
    "    generator=torch.Generator(\"cpu\").manual_seed(0),\n",
    ")\n",
    "frames = output.frames[0]\n",
    "save_path = \"rohan-13.gif\"\n",
    "export_to_gif(frames, save_path)"
   ]
  },
  {
   "cell_type": "markdown",
   "id": "861bdba2",
   "metadata": {},
   "source": [
    "### Render Generation as GIF"
   ]
  },
  {
   "cell_type": "code",
   "execution_count": 21,
   "id": "442918f6-d731-4ab4-a4a3-35f8d3887452",
   "metadata": {
    "tags": []
   },
   "outputs": [
    {
     "data": {
      "text/html": [
       "<img src=\"rohan-13.gif\" alt=\"GIF Image\">"
      ],
      "text/plain": [
       "<IPython.core.display.HTML object>"
      ]
     },
     "execution_count": 21,
     "metadata": {},
     "output_type": "execute_result"
    }
   ],
   "source": [
    "from IPython.display import HTML\n",
    "HTML(f'<img src=\"{save_path}\" alt=\"GIF Image\">')"
   ]
  }
 ],
 "metadata": {
  "environment": {
   "kernel": "conda-root-py",
   "name": "workbench-notebooks.m113",
   "type": "gcloud",
   "uri": "gcr.io/deeplearning-platform-release/workbench-notebooks:m113"
  },
  "kernelspec": {
   "display_name": "Python 3 (ipykernel) (Local)",
   "language": "python",
   "name": "conda-root-py"
  },
  "language_info": {
   "codemirror_mode": {
    "name": "ipython",
    "version": 3
   },
   "file_extension": ".py",
   "mimetype": "text/x-python",
   "name": "python",
   "nbconvert_exporter": "python",
   "pygments_lexer": "ipython3",
   "version": "3.10.13"
  }
 },
 "nbformat": 4,
 "nbformat_minor": 5
}
