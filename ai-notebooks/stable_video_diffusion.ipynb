{
 "cells": [
  {
   "cell_type": "markdown",
   "id": "84ed2e3d-ea7f-470a-b28c-332c48cfef18",
   "metadata": {},
   "source": [
    "# Stable Video Diffusion"
   ]
  },
  {
   "cell_type": "code",
   "execution_count": null,
   "id": "c40be3b8",
   "metadata": {},
   "outputs": [],
   "source": [
    "# Download the necessary packages (globally)\n",
    "!pip install torch accelerate transformers diffusers opencv-python"
   ]
  },
  {
   "cell_type": "markdown",
   "id": "2cd5bbc3",
   "metadata": {},
   "source": [
    "# Load Model\n",
    "This load the pipeline and model artifacts into GPU memory"
   ]
  },
  {
   "cell_type": "code",
   "execution_count": null,
   "id": "184bc901-7de7-42a3-9cd7-4b6ce45e2445",
   "metadata": {
    "tags": []
   },
   "outputs": [],
   "source": [
    "import torch\n",
    "\n",
    "from diffusers import StableVideoDiffusionPipeline\n",
    "from diffusers.utils import load_image, export_to_video\n",
    "\n",
    "pipe = StableVideoDiffusionPipeline.from_pretrained(\n",
    "  \"stabilityai/stable-video-diffusion-img2vid-xt\", torch_dtype=torch.float16, variant=\"fp16\"\n",
    ")\n",
    "pipe.enable_model_cpu_offload()"
   ]
  },
  {
   "cell_type": "code",
   "execution_count": 44,
   "id": "673cd7b3-8b08-4be8-a4a6-9750f4ceaae2",
   "metadata": {
    "tags": []
   },
   "outputs": [],
   "source": [
    "# Load the conditioning image\n",
    "image = load_image(\"rohan-1.png\")\n",
    "image = image.resize((512, 512))\n",
    "image"
   ]
  },
  {
   "cell_type": "code",
   "execution_count": 46,
   "id": "869ce248-fc67-4d65-8d33-1b48241b3391",
   "metadata": {
    "tags": []
   },
   "outputs": [],
   "source": [
    "generator = torch.manual_seed(106)"
   ]
  },
  {
   "cell_type": "markdown",
   "id": "cdb402fa-3349-47bc-980a-c960d770ab54",
   "metadata": {},
   "source": [
    "## Create a Longer Video Iteratively\n",
    "\n",
    "Create a sequence of video frames by iteratively generating new frames from an initial image. In each iteration, the last generated frame is used as the starting point for the next set of frames to ensure a smooth transition and continuity in the video. The frames are accumulated into a list, excluding the last frame of each iteration to avoid duplicates. This process allows for the creation of a longer, continuous video sequence from a single starting image."
   ]
  },
  {
   "cell_type": "code",
   "execution_count": null,
   "id": "cb5a5797-9405-4970-a481-f8137697e015",
   "metadata": {
    "tags": []
   },
   "outputs": [],
   "source": [
    "ITERATIONS = 3\n",
    "all_frames = []\n",
    "condition_image = image\n",
    "for i in range(ITERATIONS):\n",
    "    # generating frames based on a conditioning image\n",
    "    frames = pipe(condition_image, decode_chunk_size=2, generator=generator, motion_bucket_id=90, noise_aug_strength=0.05).frames[0]\n",
    "    # set last image of generated frames as the condition image for next iteration\n",
    "    condition_image = frames[-1]\n",
    "    # append frames (all except last one as it is used for conditioning in next iteration - to remove redundancy)\n",
    "    all_frames += frames[:-1]"
   ]
  },
  {
   "cell_type": "markdown",
   "id": "1bccaef9",
   "metadata": {},
   "source": [
    "### Export Video"
   ]
  },
  {
   "cell_type": "code",
   "execution_count": null,
   "id": "aebd53fd-8aa0-48e5-b29a-1b237aeb6bad",
   "metadata": {
    "tags": []
   },
   "outputs": [],
   "source": [
    "export_to_video(all_frames, \"rohan-it1-fp7.mp4\", fps=7)"
   ]
  }
 ],
 "metadata": {
  "environment": {
   "kernel": "conda-root-py",
   "name": "workbench-notebooks.m113",
   "type": "gcloud",
   "uri": "gcr.io/deeplearning-platform-release/workbench-notebooks:m113"
  },
  "kernelspec": {
   "display_name": "Python 3 (ipykernel) (Local) (Local)",
   "language": "python",
   "name": "conda-root-py"
  },
  "language_info": {
   "codemirror_mode": {
    "name": "ipython",
    "version": 3
   },
   "file_extension": ".py",
   "mimetype": "text/x-python",
   "name": "python",
   "nbconvert_exporter": "python",
   "pygments_lexer": "ipython3",
   "version": "3.10.13"
  }
 },
 "nbformat": 4,
 "nbformat_minor": 5
}
